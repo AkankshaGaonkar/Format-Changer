{
  "nbformat": 4,
  "nbformat_minor": 0,
  "metadata": {
    "colab": {
      "name": "Formatchanger.ipynb",
      "provenance": []
    },
    "kernelspec": {
      "name": "python3",
      "display_name": "Python 3"
    }
  },
  "cells": [
    {
      "cell_type": "code",
      "metadata": {
        "id": "rue9rDEeZph5"
      },
      "source": [
        ""
      ],
      "execution_count": null,
      "outputs": []
    },
    {
      "cell_type": "code",
      "metadata": {
        "id": "mOVvWmHmElRu"
      },
      "source": [
        "from google.colab import drive\n",
        "drive.mount('/content/drive')"
      ],
      "execution_count": null,
      "outputs": []
    },
    {
      "cell_type": "code",
      "metadata": {
        "id": "oe8pfMOcpc-V"
      },
      "source": [
        "#Python converting excel to other formats like csv ,json and html formats using pandas library\n",
        "#Pandas to be the most useful for data science operations\n",
        "#Convert a Python's list, dictionary or Numpy array to a Pandas data frame.\n",
        "#Open a local file using Pandas, usually a CSV file, but could also be a delimited text file (like TSV), Excel, etc.\n",
        "#Handling of data. The Pandas library provides a really fast and efficient way to manage and explore data. ...\n",
        "#Alignment and indexing. ...\n",
        "#Handling missing data. ...\n",
        "#Cleaning up data. ...\n",
        "#Input and output tools. ...\n",
        "#Multiple file formats supported....\n",
        "#Merging and joining of datasets. ...\n",
        "#A lot of time series.\n",
        "import pandas as pd\n",
        "\n",
        "#Excel is a Input File Path . csv,Json,html and Sql files are out put .\n",
        "excel_file_path='/content/Abcd.xlsx'\n",
        "# output\n",
        "csv_file_path ='/content/sample_data/Test.csv'\n",
        "json_file_path='/content/sample_data/anscombe.json'\n",
        "\n",
        "# Excel sheet name Ex: Sheet1 as 1 and Sheet2 as 2 \n",
        "primaryexcelsheet='Sheet1'\n",
        "\n",
        "    \n",
        "#Reading Excel File from particular excel sheet \n",
        "         \n",
        "read_Excelfile =pd.read_excel(excel_file_path,sheet_name=primaryexcelsheet)\n",
        "     \n",
        "# convert excel files into CSV, Json, Html and sql Formats \n",
        "def format_csv(excel_file_path,csv_file_path):\n",
        "  read_Excelfile =pd.read_excel(excel_file_path,sheet_name=primaryexcelsheet)\n",
        "  read_Excelfile.to_csv(csv_file_path,index=None,header=True)\n",
        "format_csv(excel_file_path,csv_file_path)\n",
        "\n",
        "def format_json(excel_file_path,json_file_path):\n",
        "  read_Excelfile =pd.read_excel(excel_file_path,sheet_name=primaryexcelsheet)\n",
        "  read_Excelfile.to_json(json_file_path)\n",
        "format_json(excel_file_path,json_file_path)\n",
        "\n",
        "\n",
        "\n",
        "\n"
      ],
      "execution_count": null,
      "outputs": []
    }
  ]
}